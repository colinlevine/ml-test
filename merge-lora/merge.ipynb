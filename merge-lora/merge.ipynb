{
 "cells": [
  {
   "cell_type": "markdown",
   "id": "bb5d5db3",
   "metadata": {},
   "source": [
    "### Merge LoRa adapters with base model"
   ]
  },
  {
   "cell_type": "code",
   "execution_count": 2,
   "id": "830e3f91",
   "metadata": {},
   "outputs": [
    {
     "name": "stdout",
     "output_type": "stream",
     "text": [
      "✅ Merged model saved to: ./merged-model\n"
     ]
    }
   ],
   "source": [
    "from transformers import AutoModelForCausalLM, AutoTokenizer\n",
    "from peft import PeftModel\n",
    "import torch, os\n",
    "\n",
    "BASE_MODEL = \"nvidia/Nemotron-Mini-4B-Instruct\"      # <-- change if needed\n",
    "ADAPTER_DIR = \"./outputs/checkpoint-100\"    # <-- your LoRA checkpoint folder\n",
    "OUT_DIR     = \"./merged-model\"            # <-- where to save the merged model\n",
    "\n",
    "os.makedirs(OUT_DIR, exist_ok=True)\n",
    "\n",
    "# 1) Load tokenizer (use base unless you added tokens in training)\n",
    "tok = AutoTokenizer.from_pretrained(BASE_MODEL, trust_remote_code=True)\n",
    "\n",
    "# 2) Load base model on CPU in bf16/fp16 to keep RAM reasonable\n",
    "#    (4B in fp16 ~8GB RAM; make sure you have ~12–16GB free)\n",
    "base = AutoModelForCausalLM.from_pretrained(\n",
    "    BASE_MODEL,\n",
    "    device_map=\"cpu\",\n",
    "    torch_dtype=torch.float16,      # bf16 or fp16; bf16 preferred on A100/H100\n",
    "    low_cpu_mem_usage=True,\n",
    "    trust_remote_code=True,\n",
    ")\n",
    "\n",
    "# 3) Load LoRA adapters on top\n",
    "model = PeftModel.from_pretrained(base, ADAPTER_DIR)\n",
    "\n",
    "# 4) Merge adapters into the base weights and drop PEFT wrappers\n",
    "model = model.merge_and_unload()\n",
    "\n",
    "# 5) Save a single, normal HF model folder\n",
    "model.save_pretrained(OUT_DIR, safe_serialization=True)\n",
    "tok.save_pretrained(OUT_DIR)\n",
    "\n",
    "print(f\"✅ Merged model saved to: {OUT_DIR}\")\n"
   ]
  },
  {
   "cell_type": "code",
   "execution_count": null,
   "id": "d6d73b9e",
   "metadata": {},
   "outputs": [],
   "source": []
  }
 ],
 "metadata": {
  "kernelspec": {
   "display_name": ".venv",
   "language": "python",
   "name": "python3"
  },
  "language_info": {
   "codemirror_mode": {
    "name": "ipython",
    "version": 3
   },
   "file_extension": ".py",
   "mimetype": "text/x-python",
   "name": "python",
   "nbconvert_exporter": "python",
   "pygments_lexer": "ipython3",
   "version": "3.11.13"
  }
 },
 "nbformat": 4,
 "nbformat_minor": 5
}
